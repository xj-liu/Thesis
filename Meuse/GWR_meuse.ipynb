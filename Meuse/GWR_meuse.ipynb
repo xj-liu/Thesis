{
 "cells": [
  {
   "cell_type": "markdown",
   "id": "acc15536-bf40-45c1-881c-d3df89cd7940",
   "metadata": {
    "tags": []
   },
   "source": [
    "## Installation via conda\n",
    "\n",
    "1.conda create --name gwr python=3.6 matplotlib numpy pandas scipy jupyter jupyterlab\n",
    "\n",
    "2.conda install --name gwr fiona=1.8.13\n",
    "\n",
    "3.conda install --name gwr geopandas=0.8.1\n",
    "\n",
    "4.conda install -c conda-forge --name gwr libpysal spglm esda maplcassify\n",
    "\n",
    "5.conda install -c conda-forge --name gwr mgwr "
   ]
  },
  {
   "cell_type": "code",
   "execution_count": null,
   "id": "f979e779-1e2b-4083-8a54-e747779ebd64",
   "metadata": {},
   "outputs": [],
   "source": [
    "import numpy as np\n",
    "import pandas as pd\n",
    "import libpysal as ps\n",
    "import esda\n",
    "import mapclassify as mc\n",
    "\n",
    "import geopandas as gp\n",
    "import matplotlib.pyplot as plt\n",
    "import matplotlib as mpl\n",
    "from matplotlib import colors\n",
    "\n",
    "from mgwr.gwr import GWR, MGWR\n",
    "from mgwr.sel_bw import Sel_BW"
   ]
  },
  {
   "cell_type": "code",
   "execution_count": 4,
   "id": "dac09f28-3310-4df9-8f32-a43ce0606c81",
   "metadata": {},
   "outputs": [
    {
     "data": {
      "image/png": "[encoded data removed]",
      "text/plain": [
       "<Figure size 432x432 with 1 Axes>"
      ]
     },
     "metadata": {
      "needs_background": "light"
     },
     "output_type": "display_data"
    }
   ],
   "source": [
    "#Load dataset and generate plot of properties \n",
    "meuse = gp.read_file(r'...')\n",
    "\n",
    "fig, ax = plt.subplots(figsize = (6, 6))\n",
    "meuse.plot(ax = ax, markersize = 10, marker='o')\n",
    "plt.show()"
   ]
  },
  {
   "cell_type": "code",
   "execution_count": 5,
   "id": "b05e357d-6c8e-4e7d-b054-c4068e413df4",
   "metadata": {},
   "outputs": [
    {
     "name": "stdout",
     "output_type": "stream",
     "text": [
      "        x       y  cadmium  copper  lead  zinc   elev      dist    om  ffreq  \\\n",
      "0  181072  333611     11.7      85   299  1022  7.909  0.001358  13.6      1   \n",
      "1  181025  333558      8.6      81   277  1141  6.983  0.012224  14.0      1   \n",
      "2  181165  333537      6.5      68   199   640    7.8  0.103029  13.0      1   \n",
      "\n",
      "   soil  lime landuse  dist_m   POINT_X    POINT_Y  eleve  \\\n",
      "0     1     1      Ah      50  5.758534  50.991562   7909   \n",
      "1     1     1      Ah      30  5.757861  50.991088   6983   \n",
      "2     1     1      Ah     150  5.759854  50.990893     78   \n",
      "\n",
      "                   geometry  \n",
      "0  POINT (5.75853 50.99156)  \n",
      "1  POINT (5.75786 50.99109)  \n",
      "2  POINT (5.75985 50.99089)  \n"
     ]
    },
    {
     "data": {
      "text/plain": [
       "x              int64\n",
       "y              int64\n",
       "cadmium      float64\n",
       "copper         int64\n",
       "lead           int64\n",
       "zinc           int64\n",
       "elev          object\n",
       "dist         float64\n",
       "om           float64\n",
       "ffreq          int64\n",
       "soil           int64\n",
       "lime           int64\n",
       "landuse       object\n",
       "dist_m         int64\n",
       "POINT_X      float64\n",
       "POINT_Y      float64\n",
       "eleve          int64\n",
       "geometry    geometry\n",
       "dtype: object"
      ]
     },
     "execution_count": 5,
     "metadata": {},
     "output_type": "execute_result"
    }
   ],
   "source": [
    "print(meuse.head(3))\n",
    "meuse.dtypes"
   ]
  },
  {
   "cell_type": "code",
   "execution_count": 6,
   "id": "1f3b491f-43a4-4b14-a090-d5c116ff1f66",
   "metadata": {},
   "outputs": [],
   "source": [
    "meuse['elev'] = meuse['elev'].astype(float)"
   ]
  },
  {
   "cell_type": "code",
   "execution_count": 7,
   "id": "d41bac11-26f8-4a78-ac50-b3d5a392db08",
   "metadata": {},
   "outputs": [
    {
     "name": "stdout",
     "output_type": "stream",
     "text": [
      "   zinc   elev      dist    om   POINT_X    POINT_Y                  geometry\n",
      "0  1022  7.909  0.001358  13.6  5.758534  50.991562  POINT (5.75853 50.99156)\n",
      "1  1141  6.983  0.012224  14.0  5.757861  50.991088  POINT (5.75786 50.99109)\n",
      "zinc           int64\n",
      "elev         float64\n",
      "dist         float64\n",
      "om           float64\n",
      "POINT_X      float64\n",
      "POINT_Y      float64\n",
      "geometry    geometry\n",
      "dtype: object\n"
     ]
    }
   ],
   "source": [
    "meuse = meuse[['zinc','elev','dist','om', 'POINT_X','POINT_Y','geometry']]\n",
    "print(meuse.head(2))\n",
    "print(meuse.dtypes)"
   ]
  },
  {
   "cell_type": "code",
   "execution_count": 8,
   "id": "a62abd09-d11a-4fa7-93db-f2d47f8b525a",
   "metadata": {},
   "outputs": [
    {
     "name": "stdout",
     "output_type": "stream",
     "text": [
      "(124, 7)\n",
      "(31, 7)\n"
     ]
    }
   ],
   "source": [
    "# Split data into calibration (train) and prediction (test) sets\n",
    "\n",
    "train=meuse.sample(frac=0.8,random_state=200) #random state is a seed value\n",
    "test=meuse.drop(train.index)\n",
    "\n",
    "print(train.shape)\n",
    "print(test.shape)"
   ]
  },
  {
   "cell_type": "code",
   "execution_count": 10,
   "id": "a794bb5a-844b-4c40-9f91-2b457a7296b8",
   "metadata": {},
   "outputs": [],
   "source": [
    "#Prepare dataset inputs\n",
    "#Train\n",
    "cal_y = train['zinc'].values.reshape((-1, 1)) \n",
    "cal_X = train[['elev','dist', 'om']].values\n",
    "\n",
    "u = train['POINT_X']\n",
    "v = train['POINT_Y']\n",
    "cal_coords = list(zip(u, v))\n",
    "\n",
    "#Test\n",
    "pred_y = test['zinc'].values.reshape((-1, 1))\n",
    "pred_X = test[['elev','dist', 'om']].values\n",
    "\n",
    "y = test['POINT_X']\n",
    "z = test['POINT_Y']\n",
    "p_coords = list(zip(y, z))\n",
    "pred_coords = np.array(p_coords)"
   ]
  },
  {
   "cell_type": "code",
   "execution_count": 11,
   "id": "781a0d20-3331-437b-868d-d837711020fe",
   "metadata": {},
   "outputs": [
    {
     "name": "stdout",
     "output_type": "stream",
     "text": [
      "49.0\n"
     ]
    }
   ],
   "source": [
    "# Bandwidth Selection \n",
    "\n",
    "#Instantiate bandwidth selection object\n",
    "selector = Sel_BW(cal_coords, cal_y, cal_X, spherical = True)\n",
    "\n",
    "#Default golden section search using AICc criterion\n",
    "bw = selector.search()\n",
    "print(bw)"
   ]
  },
  {
   "cell_type": "code",
   "execution_count": 12,
   "id": "ef6bfb8e-b4dc-47a4-ae9e-4fa1d9884035",
   "metadata": {},
   "outputs": [
    {
     "name": "stdout",
     "output_type": "stream",
     "text": [
      "2223494.9421519563\n",
      "1607.7296368803052\n",
      "1616.4833680020845\n",
      "0.8671056832570114\n",
      "correlation between known and predicted values of test dataset 0.8765611238085893\n"
     ]
    }
   ],
   "source": [
    "#Fit GWR model\n",
    "model = GWR(cal_coords, cal_y, cal_X, bw)\n",
    "gwr_results = model.fit()\n",
    "#Global  diagnostics\n",
    "print(gwr_results.resid_ss)\n",
    "print(gwr_results.aic)\n",
    "print(gwr_results.aicc)\n",
    "print(gwr_results.R2)\n",
    "\n",
    "#Make predictions\n",
    "pred_results = model.predict(pred_coords, pred_X)\n",
    "\n",
    "#Check correlation between known and predicted values\n",
    "corr = np.corrcoef(pred_results.predictions.flatten(),pred_y.flatten())[0][1]\n",
    "print('correlation between known and predicted values of test dataset',corr)"
   ]
  },
  {
   "cell_type": "code",
   "execution_count": 14,
   "id": "5d90f8d9-0a4e-4d61-a871-b0f83dae2cea",
   "metadata": {},
   "outputs": [
    {
     "name": "stdout",
     "output_type": "stream",
     "text": [
      "rmse error of test data is: 177.80282692378557\n",
      "(31, 10)\n"
     ]
    }
   ],
   "source": [
    "#Calculation of TEST ERROR \n",
    "test['predictions']=pred_results.predictions.flatten()\n",
    "test['pred_y']=pred_y.flatten()\n",
    "test['test_res']=test['pred_y']-test['predictions']\n",
    "\n",
    "def rmse(x):\n",
    "    return np.sqrt(((x) ** 2).mean())\n",
    "\n",
    "rmse_test = rmse(test['test_res'])\n",
    "print(\"rmse error of test data is: \" + str(rmse_test))\n",
    "print(test.shape)"
   ]
  },
  {
   "cell_type": "code",
   "execution_count": 15,
   "id": "ae368611-720f-4867-84a9-9385f0597c3f",
   "metadata": {},
   "outputs": [],
   "source": [
    "# Model fit all data!\n",
    "#Prepare dataset inputs\n",
    "\n",
    "m_y = meuse['zinc'].values.reshape((-1, 1)) \n",
    "m_X = meuse[['elev','dist', 'om']].values\n",
    "\n",
    "a = meuse['POINT_X']\n",
    "b = meuse['POINT_Y']\n",
    "m_coords = list(zip(a, b))"
   ]
  },
  {
   "cell_type": "code",
   "execution_count": 16,
   "id": "98b08777-5e6e-404b-9c7d-409a497d1d13",
   "metadata": {},
   "outputs": [
    {
     "name": "stdout",
     "output_type": "stream",
     "text": [
      "50.0\n"
     ]
    }
   ],
   "source": [
    "# Bandwidth Selection \n",
    "\n",
    "#Instantiate bandwidth selection object\n",
    "selector1 = Sel_BW(m_coords, m_y, m_X, spherical = True)\n",
    "\n",
    "#Default golden section search using AICc criterion\n",
    "bw1 = selector1.search()\n",
    "print(bw1)"
   ]
  },
  {
   "cell_type": "code",
   "execution_count": 17,
   "id": "95ffb58b-1b30-4f4f-b11d-2762c032c5d0",
   "metadata": {},
   "outputs": [
    {
     "name": "stdout",
     "output_type": "stream",
     "text": [
      "2805394.718084933\n",
      "2008.7869130286424\n",
      "2018.5858476283292\n",
      "0.8648031703038416\n",
      "rmse error of model all data is: 134.53371607830607 (this is the training error to be used in the paper)\n",
      "(155, 8)\n"
     ]
    }
   ],
   "source": [
    "#Fit GWR model\n",
    "model_all = GWR(m_coords, m_y, m_X, bw1)\n",
    "gwr_results1 = model_all.fit()\n",
    "\n",
    "#Global  diagnostics\n",
    "print(gwr_results1.resid_ss)\n",
    "print(gwr_results1.aic)\n",
    "print(gwr_results1.aicc)\n",
    "print(gwr_results1.R2)\n",
    "\n",
    "meuse['res'] = gwr_results1.resid_response\n",
    "rmse_all = rmse(meuse['res'])\n",
    "print(\"rmse error of model all data is: \" + str(rmse_all), '(this is the training error to be used in the paper)')\n",
    "print(meuse.shape)"
   ]
  },
  {
   "cell_type": "code",
   "execution_count": 18,
   "id": "d1180e53-5436-40c4-988c-bb575818f96a",
   "metadata": {},
   "outputs": [
    {
     "name": "stdout",
     "output_type": "stream",
     "text": [
      "median value of elev parameters -129.77539984162982\n",
      "number of elev insigificant parameters 0\n",
      "median value of dist parameters -572.6936614274855\n",
      "number of dist insigificant parameters 0\n",
      "median value of om parameters 39.5145228208636\n",
      "number of om insigificant parameters 93\n"
     ]
    }
   ],
   "source": [
    "# Inference on Individual Parameter Estimates\n",
    "\n",
    "# hypothesis tests for significance of parameter estimates\n",
    "#default behavior using corrected alpha\n",
    "filter_t = gwr_results1.filter_tvals()\n",
    "\n",
    "# estimated coefficients & significance for elev\n",
    "meuse['elev_params'] = gwr_results1.params[:, 1]\n",
    "print ('median value of elev parameters',meuse['elev_params'].median())\n",
    "\n",
    "meuse['elev_t'] = filter_t[:, 1]\n",
    "insig_elev = meuse[meuse['elev_t']> 0.05]['elev_t']\n",
    "print ('number of elev insigificant parameters', len(insig_elev.index))\n",
    "\n",
    "# estimated coefficients & significance for dist\n",
    "meuse['dist_params'] = gwr_results1.params[:, 2] #params = n*k, estimated coefficients\n",
    "print ('median value of dist parameters',meuse['dist_params'].median())\n",
    "\n",
    "meuse['dist_t'] = filter_t[:, 2]\n",
    "insig_dist = meuse[meuse['dist_t']> 0.05]['dist_t']\n",
    "print ('number of dist insigificant parameters', len(insig_dist.index))\n",
    "\n",
    "# estimated coefficients & significance for om\n",
    "meuse['om_params'] = gwr_results1.params[:, 3]\n",
    "print ('median value of om parameters',meuse['om_params'].median())\n",
    "\n",
    "meuse['om_t'] = filter_t[:, 3]\n",
    "insig_om = meuse[meuse['om_t']> 0.05]['om_t']\n",
    "print ('number of om insigificant parameters', len(insig_om.index))"
   ]
  },
  {
   "cell_type": "code",
   "execution_count": 19,
   "id": "d5ed356b-680b-4b13-b9e1-30caa76012cc",
   "metadata": {},
   "outputs": [
    {
     "data": {
      "text/plain": [
       "<AxesSubplot:>"
      ]
     },
     "execution_count": 19,
     "metadata": {},
     "output_type": "execute_result"
    },
    {
     "data": {
      "image/png": "[encoded data removed]",
      "text/plain": [
       "<Figure size 432x432 with 1 Axes>"
      ]
     },
     "metadata": {
      "needs_background": "light"
     },
     "output_type": "display_data"
    }
   ],
   "source": [
    "# Global Spatial Autocorrelation\n",
    "fig, ax = plt.subplots(figsize=(6,6), subplot_kw={'aspect':'equal'})\n",
    "meuse.plot(column='res', scheme='Quantiles', k=5, cmap='bwr', legend=True, ax=ax)"
   ]
  },
  {
   "cell_type": "code",
   "execution_count": 21,
   "id": "fbd44938-5b7f-4bc1-bd82-9149874f1946",
   "metadata": {},
   "outputs": [],
   "source": [
    "# The following part creates a spatial weights matrix (wq),\n",
    "# and based on this the spatial lag operator of the residuals is created too.\n",
    "\n",
    "wq =  ps.weights.KNN.from_dataframe(meuse, k=5) # this need to be the same like in the other expriments!\n",
    "wq.transform = 'r'\n",
    "y = meuse['res']\n",
    "lag_res = ps.weights.lag_spatial(wq,y )"
   ]
  },
  {
   "cell_type": "code",
   "execution_count": 24,
   "id": "c3f99d74-1616-493a-8c28-80e958aba003",
   "metadata": {},
   "outputs": [
    {
     "name": "stdout",
     "output_type": "stream",
     "text": [
      "Moran I is 0.084 and p-value is 0.028971028971028972 expected value is -0.006493506493506494\n"
     ]
    }
   ],
   "source": [
    "# Calculate Moran's I\n",
    "\n",
    "mi = esda.Moran(y, wq, permutations = 1000, two_tailed=False)\n",
    "print( 'Moran I is', round(mi.I, 3), 'and p-value is', mi.p_sim, 'expected value is', mi.EI)\n"
   ]
  },
  {
   "cell_type": "code",
   "execution_count": 25,
   "id": "fbee5095-49c8-4258-9c5e-bbfe9586fa48",
   "metadata": {},
   "outputs": [],
   "source": [
    "# Calculate LISA\n",
    "lisa = esda.moran.Moran_Local(y, wq)"
   ]
  },
  {
   "cell_type": "code",
   "execution_count": 26,
   "id": "f2076119-b112-42c5-894a-97283cc124c8",
   "metadata": {},
   "outputs": [
    {
     "name": "stdout",
     "output_type": "stream",
     "text": [
      "not-significant    139\n",
      "cold outlier         5\n",
      "coldspot             4\n",
      "hotspot              4\n",
      "hot outlier          3\n",
      "Name: group, dtype: int64\n"
     ]
    },
    {
     "data": {
      "text/html": [
       "<div>\n",
       "<style scoped>\n",
       "    .dataframe tbody tr th:only-of-type {\n",
       "        vertical-align: middle;\n",
       "    }\n",
       "\n",
       "    .dataframe tbody tr th {\n",
       "        vertical-align: top;\n",
       "    }\n",
       "\n",
       "    .dataframe thead th {\n",
       "        text-align: right;\n",
       "    }\n",
       "</style>\n",
       "<table border=\"1\" class=\"dataframe\">\n",
       "  <thead>\n",
       "    <tr style=\"text-align: right;\">\n",
       "      <th></th>\n",
       "      <th>zinc</th>\n",
       "      <th>elev</th>\n",
       "      <th>dist</th>\n",
       "      <th>om</th>\n",
       "      <th>POINT_X</th>\n",
       "      <th>POINT_Y</th>\n",
       "      <th>geometry</th>\n",
       "      <th>res</th>\n",
       "      <th>elev_params</th>\n",
       "      <th>elev_t</th>\n",
       "      <th>dist_params</th>\n",
       "      <th>dist_t</th>\n",
       "      <th>om_params</th>\n",
       "      <th>om_t</th>\n",
       "      <th>Is</th>\n",
       "      <th>pvalue</th>\n",
       "      <th>group</th>\n",
       "    </tr>\n",
       "  </thead>\n",
       "  <tbody>\n",
       "    <tr>\n",
       "      <th>0</th>\n",
       "      <td>1022</td>\n",
       "      <td>7.909</td>\n",
       "      <td>0.001358</td>\n",
       "      <td>13.6</td>\n",
       "      <td>5.758534</td>\n",
       "      <td>50.991562</td>\n",
       "      <td>POINT (5.75853 50.99156)</td>\n",
       "      <td>222.930353</td>\n",
       "      <td>-82.939539</td>\n",
       "      <td>0.0</td>\n",
       "      <td>-1123.200082</td>\n",
       "      <td>-4.965261</td>\n",
       "      <td>21.467804</td>\n",
       "      <td>0.0</td>\n",
       "      <td>-0.623202</td>\n",
       "      <td>0.224</td>\n",
       "      <td>not-significant</td>\n",
       "    </tr>\n",
       "    <tr>\n",
       "      <th>1</th>\n",
       "      <td>1141</td>\n",
       "      <td>6.983</td>\n",
       "      <td>0.012224</td>\n",
       "      <td>14.0</td>\n",
       "      <td>5.757861</td>\n",
       "      <td>50.991088</td>\n",
       "      <td>POINT (5.75786 50.99109)</td>\n",
       "      <td>267.195191</td>\n",
       "      <td>-84.860293</td>\n",
       "      <td>0.0</td>\n",
       "      <td>-1137.006910</td>\n",
       "      <td>-5.046980</td>\n",
       "      <td>20.829683</td>\n",
       "      <td>0.0</td>\n",
       "      <td>-0.126997</td>\n",
       "      <td>0.491</td>\n",
       "      <td>not-significant</td>\n",
       "    </tr>\n",
       "  </tbody>\n",
       "</table>\n",
       "</div>"
      ],
      "text/plain": [
       "   zinc   elev      dist    om   POINT_X    POINT_Y                  geometry  \\\n",
       "0  1022  7.909  0.001358  13.6  5.758534  50.991562  POINT (5.75853 50.99156)   \n",
       "1  1141  6.983  0.012224  14.0  5.757861  50.991088  POINT (5.75786 50.99109)   \n",
       "\n",
       "          res  elev_params  elev_t  dist_params    dist_t  om_params  om_t  \\\n",
       "0  222.930353   -82.939539     0.0 -1123.200082 -4.965261  21.467804   0.0   \n",
       "1  267.195191   -84.860293     0.0 -1137.006910 -5.046980  20.829683   0.0   \n",
       "\n",
       "         Is  pvalue            group  \n",
       "0 -0.623202   0.224  not-significant  \n",
       "1 -0.126997   0.491  not-significant  "
      ]
     },
     "execution_count": 26,
     "metadata": {},
     "output_type": "execute_result"
    }
   ],
   "source": [
    "# Calculate spatial groupings and significance\n",
    "meuse['Is'] = lisa.Is\n",
    "meuse['pvalue'] = lisa.p_sim \n",
    "meuse['group'] = lisa.q \n",
    "\n",
    "meuse.loc[meuse['pvalue'] > 0.05, 'group'] = 'not-significant'\n",
    "meuse.loc[meuse['group'] == 1, 'group'] = 'hotspot'\n",
    "meuse.loc[meuse['group'] == 2, 'group'] = 'cold outlier'\n",
    "meuse.loc[meuse['group'] == 3, 'group'] = 'coldspot'\n",
    "meuse.loc[meuse['group'] == 4, 'group'] = 'hot outlier'\n",
    "\n",
    "print(meuse ['group'].value_counts())\n",
    "\n",
    "meuse.head(2)"
   ]
  },
  {
   "cell_type": "code",
   "execution_count": 28,
   "id": "34203a4d-8bdd-4cda-9ce1-6cb22f912822",
   "metadata": {},
   "outputs": [],
   "source": [
    "meuse.to_csv(r'...', index=False)"
   ]
  },
  {
   "cell_type": "code",
   "execution_count": 29,
   "id": "6a31dde6-ed72-481a-9681-73dbc4907c18",
   "metadata": {},
   "outputs": [
    {
     "data": {
      "image/png": "[encoded data removed]",
      "text/plain": [
       "<Figure size 432x432 with 1 Axes>"
      ]
     },
     "metadata": {
      "needs_background": "light"
     },
     "output_type": "display_data"
    }
   ],
   "source": [
    "# Vizualize spatial groupings and significance\n",
    "fig, ax = plt.subplots(figsize=(6,6), subplot_kw={'aspect':'equal'})    \n",
    "\n",
    "group_colors = {'not-significant': 'grey',\n",
    "               'hotspot': 'red',\n",
    "               'coldspot': 'blue',\n",
    "               'cold outlier': 'lightblue',\n",
    "               'hot outlier': 'pink'}\n",
    "group_colors\n",
    "\n",
    "for ctype, data in meuse.groupby('group'):\n",
    "    \n",
    "    # Define the color for each group using the dictionary\n",
    "    color = group_colors[ctype]\n",
    "    \n",
    "    # Plot each group using the color defined above\n",
    "    data.plot(color=color, ax=ax, label=ctype)\n",
    "\n",
    "ax.legend(bbox_to_anchor=(1.0, .5), prop={'size': 12})\n",
    "ax.set(title='Spatial Groupings')\n",
    "\n",
    "ax.set_axis_off()\n",
    "plt.show()\n"
   ]
  }
 ],
 "metadata": {
  "kernelspec": {
   "display_name": "Python 3",
   "language": "python",
   "name": "python3"
  },
  "language_info": {
   "codemirror_mode": {
    "name": "ipython",
    "version": 3
   },
   "file_extension": ".py",
   "mimetype": "text/x-python",
   "name": "python",
   "nbconvert_exporter": "python",
   "pygments_lexer": "ipython3",
   "version": "3.6.15"
  }
 },
 "nbformat": 4,
 "nbformat_minor": 5
}
